{
 "cells": [
  {
   "cell_type": "code",
   "execution_count": 1,
   "metadata": {},
   "outputs": [
    {
     "name": "stderr",
     "output_type": "stream",
     "text": [
      "c:\\Users\\Amin Kharaghani\\miniconda3\\envs\\dev_env1\\Lib\\site-packages\\dask\\dataframe\\__init__.py:42: FutureWarning: \n",
      "Dask dataframe query planning is disabled because dask-expr is not installed.\n",
      "\n",
      "You can install it with `pip install dask[dataframe]` or `conda install dask`.\n",
      "This will raise in a future version.\n",
      "\n",
      "  warnings.warn(msg, FutureWarning)\n"
     ]
    }
   ],
   "source": [
    "import axelrod as axl\n",
    "import pprint"
   ]
  },
  {
   "cell_type": "code",
   "execution_count": 2,
   "metadata": {},
   "outputs": [
    {
     "name": "stderr",
     "output_type": "stream",
     "text": [
      "c:\\Users\\Amin Kharaghani\\miniconda3\\envs\\dev_env1\\Lib\\site-packages\\axelrod\\player.py:200: UserWarning: Initializing player with seed from Axelrod module random number generator. Results may not be seed reproducible.\n",
      "  warnings.warn(\n"
     ]
    }
   ],
   "source": [
    "players = (axl.Appeaser(),     )\n",
    "match = axl.Match(players, 5000)\n",
    "results = match.play()    "
   ]
  },
  {
   "cell_type": "code",
   "execution_count": 3,
   "metadata": {},
   "outputs": [
    {
     "name": "stdout",
     "output_type": "stream",
     "text": [
      "||-|-|-|-|-|-|-|-|-|-|-|-|-|-|-|-|-|-|-|-|-|-|-|-|-|-|-|-|-|-|-|-|-|-|-|-|-|-|-|-|-|-|-|-|-|-|-|-|-|-|-|-|-|-|-|-|-|-|-|-|-|-|-|-|-|-|-|-|-|-|-|-|-|-|-|-|-|-|-|-|-|-|-|-|-|-|-|-|-|-|-|-|-|-|-|-|-|-|-|-|-|-|-|-|-|-|-|-|-|-|-|-|-|-|-|-|-|-|-|-|-|-|-|-|-|-|-|-|-|-|-|-|-|-|-|-|-|-|-|-|-|-|-|-|-|-|-|-|-|-|-|-|-|-|-|-|-|-|-|-|-|-|-|-|-|-|-|-|-|-|-|-|-|-|-|-|-|-|-|-|-|-|-|-|-|-|-|-|-|-|-|-|-|-|-|-|-|-|-|-|-|-|-|-|-|-|-|-|-|-|-|-|-|-|-|-|-|-|-|-|-|-|-|-|-|-|-|-|-|-|-|-|-|-|-|-|-|-|-|-|-|-|-|-|-|-|-|-|-|-|-|-|-|-|-|-|-|-|-|-|-|-|-|-|-|-|-|-|-|-|-|-|-|-|-|-|-|-|-|-|-|-|-|-|-|-|-|-|-|-|-|-|-|-|-|-|-|-|-|-|-|-|-|-|-|-|-|-|-|-|-|-|-|-|-|-|-|-|-|-|-|-|-|-|-|-|-|-|-|-|-|-|-|-|-|-|-|-|-|-|-|-|-|-|-|-|-|-|-|-|-|-|-|-|-|-|-|-|-|-|-|-|-|-|-|-|-|-|-|-|-|-|-|-|-|-|-|-|-|-|-|-|-|-|-|-|-|-|-|-|-|-|-|-|-|-|-|-|-|-|-|-|-|-|-|-|-|-|-|-|-|-|-|-|-|-|-|-|-|-|-|-|-|-|-|-|-|-|-|-|-|-|-|-|-|-|-|-|-|-|-|-|-|-|-|-|-|-|-|-|-|-|-|-|-|-|-|-|-|-|-|-|-|-|-|-|-|-|-|-|-|-|-|-|-|-|-|-|-|-|-|-|-|-|-|-|-|-|-|-|-|-|-|-|-|-|-|-|-|-|-|-|-|-|-|-|-|-|-|-|-|-|-|-|-|-|-|-|-|-|-|-|-|-|-|-|-|-|-|-|-|-|-|-|-|-|-|-|-|-|-|-|-|-|-|-|-|-|-|-|-|-|-|-|-|-|-|-|-|-|-|-|-|-|-|-|-|-|-|-|-|-|-|-|-|-|-|-|-|-|-|-|-|-|-|-|-|-|-|-|-|-|-|-|-|-|-|-|-|-|-|-|-|-|-|-|-|-|-|-|-|-|-|-|-|-|-|-|-|-|-|-|-|-|-|-|-|-|-|-|-|-|-|-|-|-|-|-|-|-|-|-|-|-|-|-|-|-|-|-|-|-|-|-|-|-|-|-|-|-|-|-|-|-|-|-|-|-|-|-|-|-|-|-|-|-|-|-|-|-|-|-|-|-|-|-|-|-|-|-|-|-|-|-|-|-|-|-|-|-|-|-|-|-|-|-|-|-|-|-|-|-|-|-|-|-|-|-|-|-|-|-|-|-|-|-|-|-|-|-|-|-|-|-|-|-|-|-|-|-|-|-|-|-|-|-|-|-|-|-|-|-|-|-|-|-|-|-|-|-|-|-|-|-|-|-|-|-|-|-|-|-|-|-|-|-|-|-|-|-|-|-|-|-|-|-|-|-|-|-|-|-|-|-|-|-|-|-|-|-|-|-|-|-|-|-|-|-|-|-|-|-|-|-|-|-|-|-|-|-|-|-|-|-|-|-|-|-|-|-|-|-|-|-|-|-|-|-|-|-|-|-|-|-|-|-|-|-|-|-|-|-|-|-|-|-|-|-|-|-|-|-|-|-|-|-|-|-|-|-|-|-|-|-|-|-|-|-|-|-|-|-|-|-|-|-|-|-|-|-|-|-|-|-|-|-|-|-|-|-|-|-|-|-|-|-|-|-|-|-|-|-|-|-|-|-|-|-|-|-|-|-|-|-|-|-|-|-|-|-|-|-|-|-|-|-|-|-|-|-|-|-|-|-|-|-|-|-|-|-|-|-|-|-|-|-|-|-|-|-|-|-|-|-|-|-|-|-|-|-|-|-|-|-|-|-|-|-|-|-|-|-|-|-|-|-|-|-|-|-|-|-|-|-|-|-|-|-|-|-|-|-|-|-|-|-|-|-|-|-|-|-|-|-|-|-|-|-|-|-|-|-|-|-|-|-|-|-|-|-|-|-|-|-|-|-|-|-|-|-|-|-|-|-|-|-|-|-|-|-|-|-|-|-|-|-|-|-|-|-|-|-|-|-|-|-|-|-|-|-|-|-|-|-|-|-|-|-|-|-|-|-|-|-|-|-|-|-|-|-|-|-|-|-|-|-|-|-|-|-|-|-|-|-|-|-|-|-|-|-|-|-|-|-|-|-|-|-|-|-|-|-|-|-|-|-|-|-|-|-|-|-|-|-|-|-|-|-|-|-|-|-|-|-|-|-|-|-|-|-|-|-|-|-|-|-|-|-|-|-|-|-|-|-|-|-|-|-|-|-|-|-|-|-|-|-|-|-|-|-|-|-|-|-|-|-|-|-|-|-|-|-|-|-|-|-|-|-|-|-|-|-|-|-|-|-|-|-|-|-|-|-|-|-|-|-|-|-|-|-|-|-|-|-|-|-|-|-|-|-|-|-|-|-|-|-|-|-|-|-|-|-|-|-|-|-|-|-|-|-|-|-|-|-|-|-|-|-|-|-|-|-|-|-|-|-|-|-|-|-|-|-|-|-|-|-|-|-|-|-|-|-|-|-|-|-|-|-|-|-|-|-|-|-|-|-|-|-|-|-|-|-|-|-|-|-|-|-|-|-|-|-|-|-|-|-|-|-|-|-|-|-|-|-|-|-|-|-|-|-|-|-|-|-|-|-|-|-|-|-|-|-|-|-|-|-|-|-|-|-|-|-|-|-|-|-|-|-|-|-|-|-|-|-|-|-|-|-|-|-|-|-|-|-|-|-|-|-|-|-|-|-|-|-|-|-|-|-|-|-|-|-|-|-|-|-|-|-|-|-|-|-|-|-|-|-|-|-|-|-|-|-|-|-|-|-|-|-|-|-|-|-|-|-|-|-|-|-|-|-|-|-|-|-|-|-|-|-|-|-|-|-|-|-|-|-|-|-|-|-|-|-|-|-|-|-|-|-|-|-|-|-|-|-|-|-|-|-|-|-|-|-|-|-|-|-|-|-|-|-|-|-|-|-|-|-|-|-|-|-|-|-|-|-|-|-|-|-|-|-|-|-|-|-|-|-|-|-|-|-|-|-|-|-|-|-|-|-|-|-|-|-|-|-|-|-|-|-|-|-|-|-|-|-|-|-|-|-|-|-|-|-|-|-|-|-|-|-|-|-|-|-|-|-|-|-|-|-|-|-|-|-|-|-|-|-|-|-|-|-|-|-|-|-|-|-|-|-|-|-|-|-|-|-|-|-|-|-|-|-|-|-|-|-|-|-|-|-|-|-|-|-|-|-|-|-|-|-|-|-|-|-|-|-|-|-|-|-|-|-|-|-|-|-|-|-|-|-|-|-|-|-|-|-|-|-|-|-|-|-|-|-|-|-|-|-|-|-|-|-|-|-|-|-|-|-|-|-|-|-|-|-|-|-|-|-|-|-|-|-|-|-|-|-|-|-|-|-|-|-|-|-|-|-|-|-|-|-|-|-|-|-|-|-|-|-|-|-|-|-|-|-|-|-|-|-|-|-|-|-|-|-|-|-|-|-|-|-|-|-|-|-|-|-|-|-|-|-|-|-|-|-|-|-|-|-|-|-|-|-|-|-|-|-|-|-|-|-|-|-|-|-|-|-|-|-|-|-|-|-|-|-|-|-|-|-|-|-|-|-|-|-|-|-|-|-|-|-|-|-|-|-|-|-|-|-|-|-|-|-|-|-|-|-|-|-|-|-|-|-|-|-|-|-|-|-|-|-|-|-|-|-|-|-|-|-|-|-|-|-|-|-|-|-|-|-|-|-|-|-|-|-|-|-|-|-|-|-|-|-|-|-|-|-|-|-|-|-|-|-|-|-|-|-|-|-|-|-|-|-|-|-|-|-|-|-|-|-|-|-|-|-|-|-|-|-|-|-|-|-|-|-|-|-|-|-|-|-|-|-|-|-|-|-|-|-|-|-|-|-|-|-|-|-|-|-|-|-|-|-|-|-|-|-|-|-|-|-|-|-|-|-|-|-|-|-|-|-|-|-|-|-|-|-|-|-|-|-|-|-|-|-|-|-|-|-|-|-|-|-|-|-|-|-|-|-|-|-|-|-|-|-|-|-|-|-|-|-|-|-|-|-|-|-|-|-|-|-|-|-|-|-|-|-|-|-|-|-|-|-|-|-|-|-|-|-|-|-|-|-|-|-|-|-|-|-|-|-|-|-|-|-|-|-|-|-|-|-|-|-|-|-|-|-|-|-|-|-|-|-|-|-|-|-|-|-|-|-|-|-|-|-|-|-|-|-|-|-|-|-|-|-|-|-|-|-|-|-|-|-|-|-|-|-|-|-|-|-|-|-|-|-|-|-|-|-|-|-|-|-|-|-|-|-|-|-|-|-|-|-|-|-|-|-|-|-|-|-|-|-|-|-|-|-|-|-|-|-|-|-|-|-|-|-|-|-|-|-|-|-|-|-|-|-|-|-|-|-|-|-|-|-|-|-|-|-|-|-|-|-|-|-|-|-|-|-|-|-|-|-|-|-|-|-|-|-|-|-|-|-|-|-|-|-|-|-|-|-|-|-|-|-|-|-|-|-|-|-|-|-|-|-|-|-|-|-|-|-|-|-|-|-|-|-|-|-|-|-|-|-|-|-|-|-|-|-|-|-|-|-|-|-|-|-|-|-|-|-|-|-|-|-|-|-|-|-|-|-|-|-|-|-|-|-|-|-|-|-|-|-|-|-|-|-|-|-|-|-|-|-|-|-|-|-|-|-|-|-|-|-|-|-|-|-|-|-|-|-|-|-|-|-|-|-|-|-|-|-|-|-|-|-|-|-|-|-|-|-|-|-|-|-|-|-|-|-|-|-|-|-|-|-|-|-|-|-|-|-|-|-|-|-|-|-|-|-|-|-|-|-|-|-|-|-|-|-|-|-|-|-|-|-|-|-|-|-|-|-|-|-|-|-|-|-|-|-|-|-|-|-|-|-|-|-|-|-|-|-|-|-|-|-|-|-|-|-|-|-|-|-|-|-|-|-|-|-|-|-|-|-|-|-|-|-|-|-|-|-|-|-|-|-|-|-|-|-|-|-|-|-|-|-|-|-|-|-|-|-|-|-|-|-|-|-|-|-|-|-|-|-|-|-|-|-|-|-|-|-|-|-|-|-|-|-|-|-|-|-|-|-|-|-|-|-|-|-|-|-|-|-|-|-|-|-|-|-|-|-|-|-|-|-|-|-|-|-|-|-|-|-|-|-|-|-|-|-|-|-|-|-|-|-|-|-|-|-|-|-|-|-|-|-|-|-|-|-|-|-|-|\n",
      "|-------------------------------------------------------------------------------------------------------------------------------------------------------------------------------------------------------------------------------------------------------------------------------------------------------------------------------------------------------------------------------------------------------------------------------------------------------------------------------------------------------------------------------------------------------------------------------------------------------------------------------------------------------------------------------------------------------------------------------------------------------------------------------------------------------------------------------------------------------------------------------------------------------------------------------------------------------------------------------------------------------------------------------------------------------------------------------------------------------------------------------------------------------------------------------------------------------------------------------------------------------------------------------------------------------------------------------------------------------------------------------------------------------------------------------------------------------------------------------------------------------------------------------------------------------------------------------------------------------------------------------------------------------------------------------------------------------------------------------------------------------------------------------------------------------------------------------------------------------------------------------------------------------------------------------------------------------------------------------------------------------------------------------------------------------------------------------------------------------------------------------------------------------------------------------------------------------------------------------------------------------------------------------------------------------------------------------------------------------------------------------------------------------------------------------------------------------------------------------------------------------------------------------------------------------------------------------------------------------------------------------------------------------------------------------------------------------------------------------------------------------------------------------------------------------------------------------------------------------------------------------------------------------------------------------------------------------------------------------------------------------------------------------------------------------------------------------------------------------------------------------------------------------------------------------------------------------------------------------------------------------------------------------------------------------------------------------------------------------------------------------------------------------------------------------------------------------------------------------------------------------------------------------------------------------------------------------------------------------------------------------------------------------------------------------------------------------------------------------------------------------------------------------------------------------------------------------------------------------------------------------------------------------------------------------------------------------------------------------------------------------------------------------------------------------------------------------------------------------------------------------------------------------------------------------------------------------------------------------------------------------------------------------------------------------------------------------------------------------------------------------------------------------------------------------------------------------------------------------------------------------------------------------------------------------------------------------------------------------------------------------------------------------------------------------------------------------------------------------------------------------------------------------------------------------------------------------------------------------------------------------------------------------------------------------------------------------------------------------------------------------------------------------------------------------------------------------------------------------------------------------------------------------------------------------------------------------\n"
     ]
    }
   ],
   "source": [
    "print(match.sparklines(c_symbol='|', d_symbol='-'))"
   ]
  },
  {
   "cell_type": "code",
   "execution_count": 4,
   "metadata": {},
   "outputs": [
    {
     "data": {
      "text/plain": [
       "(2502, 15002)"
      ]
     },
     "execution_count": 4,
     "metadata": {},
     "output_type": "execute_result"
    }
   ],
   "source": [
    "match.final_score()"
   ]
  },
  {
   "cell_type": "code",
   "execution_count": 18,
   "metadata": {},
   "outputs": [
    {
     "data": {
      "text/plain": [
       "(2.50006, 2.49996)"
      ]
     },
     "execution_count": 18,
     "metadata": {},
     "output_type": "execute_result"
    }
   ],
   "source": [
    "match.final_score_per_turn()"
   ]
  },
  {
   "cell_type": "code",
   "execution_count": 5,
   "metadata": {},
   "outputs": [
    {
     "data": {
      "text/plain": [
       "EvolvableANN: 17, 5, [-0.6909339649105282, 0.9219527341806104, 0.19578541941661265, 0.03222119577735505, 0.865652092238022, -0.7180223931279719, 0.5539806116128196, 0.43915054824649413, 0.41915384381288967, 0.9797021783348159, 0.5024455653755278, -0.22775646863739496, 0.09654141402975758, 0.8967559177555346, 0.47927621489503514, 0.4129010404651767, 0.358648112372689, -0.44900092181559526, 0.12786351550080677, -0.515475161326278, -0.001200488770150221, 0.7010831735605738, -0.3917732566850731, -0.0033819494235678427, -0.19822592519650795, -0.3223012509548917, -0.22129481495033287, 0.885872710496169, -0.08193136171229809, 0.11105612298275602, -0.7646745151699195, -0.3332943523701086, -0.6434911944193658, -0.7875440357168444, -0.8192386638170563, -0.002485253134284271, 0.33538777720272384, -0.2824924832745668, -0.5460884932761458, 0.07600201178108246, -0.555010022095721, -0.7134854746975654, 0.3918388790546896, -0.7886791065025498, 0.7349529275880171, -0.5543800091562849, 0.268515202677317, -0.223022523488567, 0.9061054952515843, -0.6009155562113246, 0.954814460055909, -0.9309731608884144, 0.8332939407179074, 0.8482234760790268, 0.24355406130982593, 0.4013550100760921, 0.6692376438190135, 0.21487354615389043, 0.678540427310163, -0.6911368171471814, 0.32287098628645317, -0.8510175794250256, 0.002824325846136233, 0.7430731447722416, -0.9229124939666518, 0.9672767904200115, 0.42592716555774457, -0.48837155981828984, -0.5993695758340121, 0.7728260588032556, 0.8810630420656009, 0.3889253339297689, 0.005265355400779992, -0.9456201417083143, -0.7502901888450622, -0.9024718438243815, 0.02962802757789773, -0.6229966716645403, -0.7795934319267905, 0.11062139989030606, -0.6540611276046662, 0.1999652985132201, 0.8965533355373556, -0.7390517809201236, -0.28574035399044373, -0.27189299880436346, 0.809047001641128, 0.27459699883625177, -0.5290700285004373, 0.9292736482628488, 0.029786310764653212, 0.09822422722163227, 0.846539458202616, 0.3716079697018533, -0.2874825726592716], 0.10526315789473684, 5"
      ]
     },
     "execution_count": 5,
     "metadata": {},
     "output_type": "execute_result"
    }
   ],
   "source": [
    "match.winner()"
   ]
  },
  {
   "cell_type": "markdown",
   "metadata": {},
   "source": [
    "Tournament"
   ]
  },
  {
   "cell_type": "code",
   "execution_count": 43,
   "metadata": {},
   "outputs": [
    {
     "name": "stderr",
     "output_type": "stream",
     "text": [
      "Playing matches:  20%|██        | 241/1176 [6:35:44<284:50:55, 1096.74s/it]"
     ]
    }
   ],
   "source": [
    "players = [\n",
    "    axl.Cooperator(), axl.Defector(),\n",
    "    axl.TitForTat(), axl.Grudger(),\n",
    "    axl.Appeaser(), axl.EvolvedANN(),\n",
    "    axl.FirstByDowning(), axl.EvolvedANN5(),\n",
    "    axl.EvolvedANNNoise05(), axl.Random(),\n",
    "    axl.Alternator(), axl.ZDExtort2(),\n",
    "    axl.ZDGTFT2(), axl.Adaptive(),\n",
    "    axl.Forgiver(), axl.ForgivingTitForTat(),\n",
    "    axl.Gradual(), axl.HardTitForTat(),\n",
    "    axl.SoftJoss(), axl.LimitedRetaliate(),\n",
    "    axl.MathConstantHunter(), axl.NiceAverageCopier(),\n",
    "    axl.Prober(), axl.Punisher(),\n",
    "    axl.SuspiciousTitForTat(), axl.WinStayLoseShift(),\n",
    "    axl.WorseAndWorse(), axl.ZDExtort4(),\n",
    "    axl.Grumpy(), axl.Handshake(),\n",
    "    axl.MetaHunter(), axl.MetaMajority(),\n",
    "    axl.MetaMinority(), axl.MetaWinner(),\n",
    "    axl.Negation(), axl.OmegaTFT(),\n",
    "    axl.OppositeGrudger(), axl.RandomHunter(),\n",
    "    axl.Retaliate(),axl.SneakyTitForTat(),\n",
    "    axl.StochasticCooperator(), axl.StochasticWSLS(),\n",
    "    axl.ThueMorse(), axl.TitFor2Tats(),\n",
    "    axl.TwoTitsForTat(), axl.VeryBad(),\n",
    "    axl.ZDExtort2v2(), axl.ZDSet2()\n",
    "           ]\n",
    "tournament = axl.Tournament(players=players, turns=100000, repetitions=100)\n",
    "results = tournament.play(processes=0)"
   ]
  },
  {
   "cell_type": "code",
   "execution_count": 38,
   "metadata": {},
   "outputs": [
    {
     "data": {
      "text/plain": [
       "['Tit For Tat',\n",
       " 'Evolved ANN',\n",
       " 'Grudger',\n",
       " 'First by Downing',\n",
       " 'Appeaser',\n",
       " 'Defector',\n",
       " 'Cooperator']"
      ]
     },
     "execution_count": 38,
     "metadata": {},
     "output_type": "execute_result"
    }
   ],
   "source": [
    "results.ranked_names"
   ]
  },
  {
   "cell_type": "code",
   "execution_count": 39,
   "metadata": {},
   "outputs": [
    {
     "name": "stderr",
     "output_type": "stream",
     "text": [
      "C:\\Users\\Amin Kharaghani\\AppData\\Local\\Temp\\ipykernel_280344\\2188283945.py:3: UserWarning: FigureCanvasAgg is non-interactive, and thus cannot be shown\n",
      "  p.show()\n"
     ]
    },
    {
     "data": {
      "image/png": "[encoded data removed]",
      "text/plain": [
       "<Figure size 1200x600 with 1 Axes>"
      ]
     },
     "metadata": {},
     "output_type": "display_data"
    }
   ],
   "source": [
    "plot = axl.Plot(results)\n",
    "p = plot.boxplot()\n",
    "p.show()"
   ]
  },
  {
   "cell_type": "code",
   "execution_count": 40,
   "metadata": {},
   "outputs": [
    {
     "name": "stdout",
     "output_type": "stream",
     "text": [
      "[Player(Rank=0, Name='Tit For Tat', Median_score=2.66666, Cooperation_rating=0.8333316666666667, Wins=0.0, Initial_C_rate=1.0, CC_rate=0.8333283333333333, CD_rate=3.3333333333333337e-06, DC_rate=1.6666666666666669e-06, DD_rate=0.16666666666666666, CC_to_C_rate=1.0, CD_to_C_rate=0, DC_to_C_rate=1.0, DD_to_C_rate=0),\n",
      " Player(Rank=1, Name='Evolved ANN', Median_score=2.3334, Cooperation_rating=0.666675, Wins=1.0, Initial_C_rate=1.0, CC_rate=0.6666716666666667, CD_rate=3.3333333333333337e-06, DC_rate=1.5e-05, DD_rate=0.33331, CC_to_C_rate=1.0, CD_to_C_rate=0, DC_to_C_rate=0.3333333333333333, DD_to_C_rate=0),\n",
      " Player(Rank=2, Name='Grudger', Median_score=2.33335, Cooperation_rating=0.66667, Wins=1.0, Initial_C_rate=1.0, CC_rate=0.6666666666666666, CD_rate=3.3333333333333337e-06, DC_rate=5e-06, DD_rate=0.33332500000000004, CC_to_C_rate=1.0, CD_to_C_rate=0, DC_to_C_rate=0, DD_to_C_rate=0),\n",
      " Player(Rank=3, Name='First by Downing', Median_score=2.3333266666666668, Cooperation_rating=0.166695, Wins=2.0, Initial_C_rate=0.0, CC_rate=0.16667166666666666, CD_rate=2.3333333333333336e-05, DC_rate=0.2500016666666667, DD_rate=0.5833033333333334, CC_to_C_rate=1.0, CD_to_C_rate=0.7037037037037037, DC_to_C_rate=1.500050001800068e-05, DD_to_C_rate=0.2500200013501265),\n",
      " Player(Rank=4, Name='Appeaser', Median_score=2.166681666666667, Cooperation_rating=0.833335, Wins=0.0, Initial_C_rate=1.0, CC_rate=0.66667, CD_rate=0.16666499999999998, DC_rate=1.6666666666666669e-06, DD_rate=0.16666333333333333, CC_to_C_rate=1.0, CD_to_C_rate=0, DC_to_C_rate=0, DD_to_C_rate=1.0),\n",
      " Player(Rank=5, Name='Defector', Median_score=2.00002, Cooperation_rating=0.0, Wins=5.0, Initial_C_rate=0.0, CC_rate=0.0, CD_rate=0.0, DC_rate=0.250005, DD_rate=0.7499950000000001, CC_to_C_rate=0, CD_to_C_rate=0, DC_to_C_rate=0, DD_to_C_rate=0),\n",
      " Player(Rank=6, Name='Cooperator', Median_score=2.0000050000000003, Cooperation_rating=1.0, Wins=0.0, Initial_C_rate=1.0, CC_rate=0.6666683333333333, CD_rate=0.33333166666666664, DC_rate=0.0, DD_rate=0.0, CC_to_C_rate=1.0, CD_to_C_rate=1.0, DC_to_C_rate=0, DD_to_C_rate=0)]\n"
     ]
    }
   ],
   "source": [
    "summary = results.summarise()\n",
    "pprint.pprint(summary)"
   ]
  },
  {
   "cell_type": "code",
   "execution_count": 41,
   "metadata": {},
   "outputs": [
    {
     "name": "stdout",
     "output_type": "stream",
     "text": [
      "['Rank', 'Name', 'Median_score', 'Cooperation_rating', 'Wins', 'Initial_C_rate', 'CC_rate', 'CD_rate', 'DC_rate', 'DD_rate', 'CC_to_C_rate', 'CD_to_C_rate', 'DC_to_C_rate', 'DD_to_C_rate']\n",
      "['0', 'Tit For Tat', '2.66666', '0.8333316666666667', '0.0', '1.0', '0.8333283333333333', '3.3333333333333337e-06', '1.6666666666666669e-06', '0.16666666666666666', '1.0', '0', '1.0', '0']\n",
      "['1', 'Evolved ANN', '2.3334', '0.666675', '1.0', '1.0', '0.6666716666666667', '3.3333333333333337e-06', '1.5e-05', '0.33331', '1.0', '0', '0.3333333333333333', '0']\n",
      "['2', 'Grudger', '2.33335', '0.66667', '1.0', '1.0', '0.6666666666666666', '3.3333333333333337e-06', '5e-06', '0.33332500000000004', '1.0', '0', '0', '0']\n",
      "['3', 'First by Downing', '2.3333266666666668', '0.166695', '2.0', '0.0', '0.16667166666666666', '2.3333333333333336e-05', '0.2500016666666667', '0.5833033333333334', '1.0', '0.7037037037037037', '1.500050001800068e-05', '0.2500200013501265']\n",
      "['4', 'Appeaser', '2.166681666666667', '0.833335', '0.0', '1.0', '0.66667', '0.16666499999999998', '1.6666666666666669e-06', '0.16666333333333333', '1.0', '0', '0', '1.0']\n",
      "['5', 'Defector', '2.00002', '0.0', '5.0', '0.0', '0.0', '0.0', '0.250005', '0.7499950000000001', '0', '0', '0', '0']\n",
      "['6', 'Cooperator', '2.0000050000000003', '1.0', '0.0', '1.0', '0.6666683333333333', '0.33333166666666664', '0.0', '0.0', '1.0', '1.0', '0', '0']\n"
     ]
    }
   ],
   "source": [
    "results.write_summary('summary.csv')\n",
    "import csv\n",
    "with open('summary.csv', 'r') as file:\n",
    "    reader = csv.reader(file)\n",
    "    for row in reader:\n",
    "        print(row)"
   ]
  },
  {
   "cell_type": "code",
   "execution_count": 42,
   "metadata": {},
   "outputs": [
    {
     "data": {
      "text/html": [
       "<div>\n",
       "<style scoped>\n",
       "    .dataframe tbody tr th:only-of-type {\n",
       "        vertical-align: middle;\n",
       "    }\n",
       "\n",
       "    .dataframe tbody tr th {\n",
       "        vertical-align: top;\n",
       "    }\n",
       "\n",
       "    .dataframe thead th {\n",
       "        text-align: right;\n",
       "    }\n",
       "</style>\n",
       "<table border=\"1\" class=\"dataframe\">\n",
       "  <thead>\n",
       "    <tr style=\"text-align: right;\">\n",
       "      <th></th>\n",
       "      <th>Rank</th>\n",
       "      <th>Name</th>\n",
       "      <th>Median_score</th>\n",
       "      <th>Cooperation_rating</th>\n",
       "      <th>Wins</th>\n",
       "      <th>Initial_C_rate</th>\n",
       "      <th>CC_rate</th>\n",
       "      <th>CD_rate</th>\n",
       "      <th>DC_rate</th>\n",
       "      <th>DD_rate</th>\n",
       "      <th>CC_to_C_rate</th>\n",
       "      <th>CD_to_C_rate</th>\n",
       "      <th>DC_to_C_rate</th>\n",
       "      <th>DD_to_C_rate</th>\n",
       "    </tr>\n",
       "  </thead>\n",
       "  <tbody>\n",
       "    <tr>\n",
       "      <th>0</th>\n",
       "      <td>0</td>\n",
       "      <td>Tit For Tat</td>\n",
       "      <td>2.666660</td>\n",
       "      <td>0.833332</td>\n",
       "      <td>0.0</td>\n",
       "      <td>1.0</td>\n",
       "      <td>0.833328</td>\n",
       "      <td>0.000003</td>\n",
       "      <td>0.000002</td>\n",
       "      <td>0.166667</td>\n",
       "      <td>1.0</td>\n",
       "      <td>0.000000</td>\n",
       "      <td>1.000000</td>\n",
       "      <td>0.00000</td>\n",
       "    </tr>\n",
       "    <tr>\n",
       "      <th>1</th>\n",
       "      <td>1</td>\n",
       "      <td>Evolved ANN</td>\n",
       "      <td>2.333400</td>\n",
       "      <td>0.666675</td>\n",
       "      <td>1.0</td>\n",
       "      <td>1.0</td>\n",
       "      <td>0.666672</td>\n",
       "      <td>0.000003</td>\n",
       "      <td>0.000015</td>\n",
       "      <td>0.333310</td>\n",
       "      <td>1.0</td>\n",
       "      <td>0.000000</td>\n",
       "      <td>0.333333</td>\n",
       "      <td>0.00000</td>\n",
       "    </tr>\n",
       "    <tr>\n",
       "      <th>2</th>\n",
       "      <td>2</td>\n",
       "      <td>Grudger</td>\n",
       "      <td>2.333350</td>\n",
       "      <td>0.666670</td>\n",
       "      <td>1.0</td>\n",
       "      <td>1.0</td>\n",
       "      <td>0.666667</td>\n",
       "      <td>0.000003</td>\n",
       "      <td>0.000005</td>\n",
       "      <td>0.333325</td>\n",
       "      <td>1.0</td>\n",
       "      <td>0.000000</td>\n",
       "      <td>0.000000</td>\n",
       "      <td>0.00000</td>\n",
       "    </tr>\n",
       "    <tr>\n",
       "      <th>3</th>\n",
       "      <td>3</td>\n",
       "      <td>First by Downing</td>\n",
       "      <td>2.333327</td>\n",
       "      <td>0.166695</td>\n",
       "      <td>2.0</td>\n",
       "      <td>0.0</td>\n",
       "      <td>0.166672</td>\n",
       "      <td>0.000023</td>\n",
       "      <td>0.250002</td>\n",
       "      <td>0.583303</td>\n",
       "      <td>1.0</td>\n",
       "      <td>0.703704</td>\n",
       "      <td>0.000015</td>\n",
       "      <td>0.25002</td>\n",
       "    </tr>\n",
       "    <tr>\n",
       "      <th>4</th>\n",
       "      <td>4</td>\n",
       "      <td>Appeaser</td>\n",
       "      <td>2.166682</td>\n",
       "      <td>0.833335</td>\n",
       "      <td>0.0</td>\n",
       "      <td>1.0</td>\n",
       "      <td>0.666670</td>\n",
       "      <td>0.166665</td>\n",
       "      <td>0.000002</td>\n",
       "      <td>0.166663</td>\n",
       "      <td>1.0</td>\n",
       "      <td>0.000000</td>\n",
       "      <td>0.000000</td>\n",
       "      <td>1.00000</td>\n",
       "    </tr>\n",
       "  </tbody>\n",
       "</table>\n",
       "</div>"
      ],
      "text/plain": [
       "   Rank              Name  Median_score  Cooperation_rating  Wins  \\\n",
       "0     0       Tit For Tat      2.666660            0.833332   0.0   \n",
       "1     1       Evolved ANN      2.333400            0.666675   1.0   \n",
       "2     2           Grudger      2.333350            0.666670   1.0   \n",
       "3     3  First by Downing      2.333327            0.166695   2.0   \n",
       "4     4          Appeaser      2.166682            0.833335   0.0   \n",
       "\n",
       "   Initial_C_rate   CC_rate   CD_rate   DC_rate   DD_rate  CC_to_C_rate  \\\n",
       "0             1.0  0.833328  0.000003  0.000002  0.166667           1.0   \n",
       "1             1.0  0.666672  0.000003  0.000015  0.333310           1.0   \n",
       "2             1.0  0.666667  0.000003  0.000005  0.333325           1.0   \n",
       "3             0.0  0.166672  0.000023  0.250002  0.583303           1.0   \n",
       "4             1.0  0.666670  0.166665  0.000002  0.166663           1.0   \n",
       "\n",
       "   CD_to_C_rate  DC_to_C_rate  DD_to_C_rate  \n",
       "0      0.000000      1.000000       0.00000  \n",
       "1      0.000000      0.333333       0.00000  \n",
       "2      0.000000      0.000000       0.00000  \n",
       "3      0.703704      0.000015       0.25002  \n",
       "4      0.000000      0.000000       1.00000  "
      ]
     },
     "execution_count": 42,
     "metadata": {},
     "output_type": "execute_result"
    }
   ],
   "source": [
    "import pandas as pd\n",
    "dat_results = pd.read_csv('summary.csv')\n",
    "dat_results.head()\n"
   ]
  },
  {
   "cell_type": "code",
   "execution_count": 43,
   "metadata": {},
   "outputs": [
    {
     "name": "stderr",
     "output_type": "stream",
     "text": [
      "C:\\Users\\Amin Kharaghani\\AppData\\Local\\Temp\\ipykernel_287332\\3106736620.py:2: UserWarning: FigureCanvasAgg is non-interactive, and thus cannot be shown\n",
      "  p.show()\n"
     ]
    },
    {
     "data": {
      "image/png": "[encoded data removed]",
      "text/plain": [
       "<Figure size 1200x1200 with 2 Axes>"
      ]
     },
     "metadata": {},
     "output_type": "display_data"
    }
   ],
   "source": [
    " p = plot.payoff()\n",
    " p.show()"
   ]
  },
  {
   "cell_type": "code",
   "execution_count": 45,
   "metadata": {},
   "outputs": [
    {
     "data": {
      "text/plain": [
       "<module 'axelrod.strategies.axelrod_second' from 'c:\\\\Users\\\\Amin Kharaghani\\\\miniconda3\\\\envs\\\\dev_env1\\\\Lib\\\\site-packages\\\\axelrod\\\\strategies\\\\axelrod_second.py'>"
      ]
     },
     "execution_count": 45,
     "metadata": {},
     "output_type": "execute_result"
    }
   ],
   "source": [
    "axl.axelrod_second"
   ]
  },
  {
   "cell_type": "code",
   "execution_count": null,
   "metadata": {},
   "outputs": [],
   "source": []
  }
 ],
 "metadata": {
  "kernelspec": {
   "display_name": "dev_env1",
   "language": "python",
   "name": "python3"
  },
  "language_info": {
   "codemirror_mode": {
    "name": "ipython",
    "version": 3
   },
   "file_extension": ".py",
   "mimetype": "text/x-python",
   "name": "python",
   "nbconvert_exporter": "python",
   "pygments_lexer": "ipython3",
   "version": "3.12.3"
  }
 },
 "nbformat": 4,
 "nbformat_minor": 2
}
